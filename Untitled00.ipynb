{
 "cells": [
  {
   "cell_type": "code",
   "execution_count": 11,
   "id": "fd1ebaee",
   "metadata": {},
   "outputs": [],
   "source": [
    "import numpy as np\n",
    "import pandas as pd\n",
    "from sklearn.model_selection import cross_val_score#导入交叉验证模块\n",
    "from sklearn.ensemble import RandomForestRegressor#导入随机森林回归系\n",
    "from sklearn.preprocessing import StandardScaler\n",
    "from sklearn.model_selection import train_test_split\n",
    "import matplotlib.pyplot as plt\n",
    "from sklearn.metrics import mean_squared_error, roc_curve, auc\n"
   ]
  },
  {
   "cell_type": "code",
   "execution_count": 12,
   "id": "3779a304",
   "metadata": {},
   "outputs": [
    {
     "name": "stdout",
     "output_type": "stream",
     "text": [
      "      dfsdev2   WMHD/1000     BETAP  PLHI2/1000  PNBI1LSOURCE/1000  \\\n",
      "0    3.786213  150.062665  1.809148    1.771008          -0.000024   \n",
      "1    3.814039  153.717101  1.872722    1.764905          -0.000002   \n",
      "2    3.902733  154.320308  1.913145    1.764600           0.000090   \n",
      "3    3.877649  154.758403  1.988600    1.766736          -0.000053   \n",
      "4    3.836375  155.324920  2.058595    1.759717          -0.000014   \n",
      "..        ...         ...       ...         ...                ...   \n",
      "832  6.148488  167.954306  1.017720    1.787335           1.660275   \n",
      "833  7.403863  185.028516  1.226287    1.784894           1.631289   \n",
      "834  7.175847  174.816678  1.266651    1.791302           1.653335   \n",
      "835  6.604383  175.209990  1.405230    1.788556           1.659220   \n",
      "836  6.053979  168.947659  1.500407    1.785199           1.652635   \n",
      "\n",
      "     PNBI1RSOURCE/1000  PNBI2LSOURCE/1000  PNBI2RSOURCE/1000      G109  \\\n",
      "0         1.980000e-06          -0.000023      -7.350000e-06  0.017743   \n",
      "1        -4.110000e-07           0.000040       8.460000e-06  0.018819   \n",
      "2         8.510000e-08           0.000007      -5.270000e-06  0.018998   \n",
      "3         1.400000e-07           0.000049       6.140000e-07  0.019705   \n",
      "4        -8.030000e-08           0.000044      -2.430000e-05  0.019268   \n",
      "..                 ...                ...                ...       ...   \n",
      "832       1.671050e-04           1.787325      -4.320000e-06  0.345295   \n",
      "833       1.964820e-04           1.778092       9.320000e-06  0.355200   \n",
      "834      -1.326190e-04           1.779709      -1.130000e-06  0.366252   \n",
      "835       3.190000e-05           1.774774       2.990000e-07  0.369285   \n",
      "836       1.251610e-04           1.770504       6.340000e-06  0.377647   \n",
      "\n",
      "         G107  ...        LI    TRITOP    TRIBOT     DRSEP    PXUV33  \\\n",
      "0    0.781270  ...  1.224053  0.641575  0.426888  0.006927  0.480865   \n",
      "1    0.784037  ...  1.228756  0.641287  0.426483  0.006657  0.460724   \n",
      "2    0.789600  ...  1.217695  0.636878  0.432389  0.006566  0.475067   \n",
      "3    0.770300  ...  1.215045  0.631781  0.422969  0.006172  0.454315   \n",
      "4    0.758589  ...  1.228453  0.627722  0.432707  0.006471  0.428070   \n",
      "..        ...  ...       ...       ...       ...       ...       ...   \n",
      "832  4.870742  ...  1.391980  0.635360  0.464658  0.004851  1.241968   \n",
      "833  4.911086  ...  1.370791  0.649006  0.467916  0.005415  1.506250   \n",
      "834  5.154191  ...  1.441967  0.652703  0.465036  0.005197  1.799829   \n",
      "835  5.258487  ...  1.334068  0.687268  0.488326  0.006024  2.014978   \n",
      "836  5.105829  ...  1.406028  0.695345  0.495646  0.005048  2.189844   \n",
      "\n",
      "        PXUV7         WUta  pcrl01/1000000     pecrh     n3/n6  \n",
      "0    0.427075   459.139443        0.335860  1.806174  0.778401  \n",
      "1    0.399609   370.154965        0.334456  1.808672  0.778226  \n",
      "2    0.546399   430.676325        0.333640  1.823488  0.787031  \n",
      "3    0.395947   428.242783        0.326439  1.879850  0.768173  \n",
      "4    0.338269   356.283393        0.320388  1.879263  0.767971  \n",
      "..        ...          ...             ...       ...       ...  \n",
      "832  0.529761  1460.217216        0.477431  1.811159  0.831068  \n",
      "833  0.877051  1546.630878        0.457678  1.826226  0.863224  \n",
      "834  0.893530  1785.871056        0.437033  1.826975  0.842465  \n",
      "835  0.972266  2289.289275        0.415778  1.796384  0.822989  \n",
      "836  0.965857  2829.958147        0.394559  1.807818  0.817546  \n",
      "\n",
      "[837 rows x 24 columns]\n"
     ]
    }
   ],
   "source": [
    "data = pd.read_csv(\"D:\\pythonProject7\\库存合并3.csv\")\n",
    "print(data)"
   ]
  },
  {
   "cell_type": "code",
   "execution_count": 13,
   "id": "dafa9d5d",
   "metadata": {},
   "outputs": [
    {
     "name": "stdout",
     "output_type": "stream",
     "text": [
      "data len: 24\n",
      "row_num: 837\n",
      "x_array shape: (837, 23)\n",
      "y_array shape: (837,)\n",
      "==================== Column Name ====================\n",
      "['dfsdev2', 'WMHD/1000', 'BETAP', 'PLHI2/1000', 'PNBI1LSOURCE/1000', 'PNBI1RSOURCE/1000', 'PNBI2LSOURCE/1000', 'PNBI2RSOURCE/1000', 'G109', 'G107', 'G106', 'KAPPA', 'AMINOR', 'Q95', 'LI', 'TRITOP', 'TRIBOT', 'DRSEP', 'PXUV33', 'PXUV7', 'WUta', 'pcrl01/1000000', 'pecrh', 'n3/n6']\n"
     ]
    }
   ],
   "source": [
    "row_0 = list(data.loc[0])\n",
    "row_num = data.iloc[:,0].size\n",
    "\n",
    "print(\"data len: {}\".format(len(row_0)))\n",
    "print(\"row_num: {}\".format(row_num))\n",
    "\n",
    "y_list = []   # 用于存放标签数据\n",
    "x_list = []   # 用于存放特征数据\n",
    "\n",
    "\n",
    "for i in range(row_num):\n",
    "    row_data_list = list(data.loc[i])\n",
    "    y_list.append(row_data_list[0])\n",
    "    x_list.append(row_data_list[1:])\n",
    "\n",
    "# 将数据类型由 list 转换为 array\n",
    "x_array = np.array(x_list)\n",
    "y_array = np.array(y_list)\n",
    "# 特征归一化\n",
    "scaler = StandardScaler()\n",
    "x_array = scaler.fit_transform(x_array)\n",
    "x_array = scaler.transform(x_array)\n",
    "print(\"x_array shape: {}\".format(x_array.shape))\n",
    "print(\"y_array shape: {}\".format(y_array.shape))\n",
    "print(\"==================== Column Name ====================\")\n",
    "print(list(data.columns))\n"
   ]
  },
  {
   "cell_type": "code",
   "execution_count": 15,
   "id": "960ef77d",
   "metadata": {},
   "outputs": [
    {
     "data": {
      "text/plain": [
       "array([-0.14179507, -0.0663466 , -0.26653296, -0.13490029, -0.30499309])"
      ]
     },
     "execution_count": 15,
     "metadata": {},
     "output_type": "execute_result"
    }
   ],
   "source": [
    "n_estimators = 100\n",
    "regressor = RandomForestRegressor(n_estimators=n_estimators, random_state=0)\n",
    "cross_val_score(regressor, x_array, y_array, cv=5 ,scoring = \"neg_mean_squared_error\")\n",
    "#regressor.fit(x_train, y_train)\n",
    "#y_pred = regressor.predict(x_test)"
   ]
  },
  {
   "cell_type": "code",
   "execution_count": 16,
   "id": "58e6e339",
   "metadata": {
    "scrolled": true
   },
   "outputs": [
    {
     "ename": "NameError",
     "evalue": "name 'y_test' is not defined",
     "output_type": "error",
     "traceback": [
      "\u001b[1;31m---------------------------------------------------------------------------\u001b[0m",
      "\u001b[1;31mNameError\u001b[0m                                 Traceback (most recent call last)",
      "\u001b[1;32m~\\AppData\\Local\\Temp\\ipykernel_11588\\103469664.py\u001b[0m in \u001b[0;36m<module>\u001b[1;34m\u001b[0m\n\u001b[0;32m      1\u001b[0m \u001b[1;31m# 计算均方差\u001b[0m\u001b[1;33m\u001b[0m\u001b[1;33m\u001b[0m\u001b[0m\n\u001b[1;32m----> 2\u001b[1;33m \u001b[0mmse\u001b[0m \u001b[1;33m=\u001b[0m \u001b[0mmean_squared_error\u001b[0m\u001b[1;33m(\u001b[0m\u001b[0my_test\u001b[0m\u001b[1;33m,\u001b[0m\u001b[0my_pred\u001b[0m\u001b[1;33m)\u001b[0m\u001b[1;33m\u001b[0m\u001b[1;33m\u001b[0m\u001b[0m\n\u001b[0m\u001b[0;32m      3\u001b[0m \u001b[1;33m\u001b[0m\u001b[0m\n\u001b[0;32m      4\u001b[0m     \u001b[1;31m# 记录均方差\u001b[0m\u001b[1;33m\u001b[0m\u001b[1;33m\u001b[0m\u001b[0m\n\u001b[0;32m      5\u001b[0m \u001b[0mmse_list\u001b[0m\u001b[1;33m.\u001b[0m\u001b[0mappend\u001b[0m\u001b[1;33m(\u001b[0m\u001b[0mmse\u001b[0m\u001b[1;33m)\u001b[0m\u001b[1;33m\u001b[0m\u001b[1;33m\u001b[0m\u001b[0m\n",
      "\u001b[1;31mNameError\u001b[0m: name 'y_test' is not defined"
     ]
    }
   ],
   "source": [
    "\n",
    "# 计算均方差\n",
    "mse = mean_squared_error(y_test,y_pred)\n",
    "\n",
    "    # 记录均方差\n",
    "mse_list.append(mse)\n",
    "\n",
    "# 输出均方差\n",
    "print(f\"Mean squared error: {mse}\")"
   ]
  },
  {
   "cell_type": "code",
   "execution_count": 136,
   "id": "6783a0ee",
   "metadata": {},
   "outputs": [
    {
     "ename": "NotFittedError",
     "evalue": "This RandomForestRegressor instance is not fitted yet. Call 'fit' with appropriate arguments before using this estimator.",
     "output_type": "error",
     "traceback": [
      "\u001b[1;31m---------------------------------------------------------------------------\u001b[0m",
      "\u001b[1;31mNotFittedError\u001b[0m                            Traceback (most recent call last)",
      "\u001b[1;32m~\\AppData\\Local\\Temp\\ipykernel_5052\\2292042390.py\u001b[0m in \u001b[0;36m<module>\u001b[1;34m\u001b[0m\n\u001b[0;32m      1\u001b[0m \u001b[1;31m# 计算特征的影响度\u001b[0m\u001b[1;33m\u001b[0m\u001b[1;33m\u001b[0m\u001b[0m\n\u001b[1;32m----> 2\u001b[1;33m \u001b[0mimportances\u001b[0m \u001b[1;33m=\u001b[0m \u001b[0mregressor\u001b[0m\u001b[1;33m.\u001b[0m\u001b[0mfeature_importances_\u001b[0m\u001b[1;33m\u001b[0m\u001b[1;33m\u001b[0m\u001b[0m\n\u001b[0m",
      "\u001b[1;32m~\\AppData\\Roaming\\Python\\Python39\\site-packages\\sklearn\\ensemble\\_forest.py\u001b[0m in \u001b[0;36mfeature_importances_\u001b[1;34m(self)\u001b[0m\n\u001b[0;32m    626\u001b[0m             \u001b[0marray\u001b[0m \u001b[0mof\u001b[0m \u001b[0mzeros\u001b[0m\u001b[1;33m.\u001b[0m\u001b[1;33m\u001b[0m\u001b[1;33m\u001b[0m\u001b[0m\n\u001b[0;32m    627\u001b[0m         \"\"\"\n\u001b[1;32m--> 628\u001b[1;33m         \u001b[0mcheck_is_fitted\u001b[0m\u001b[1;33m(\u001b[0m\u001b[0mself\u001b[0m\u001b[1;33m)\u001b[0m\u001b[1;33m\u001b[0m\u001b[1;33m\u001b[0m\u001b[0m\n\u001b[0m\u001b[0;32m    629\u001b[0m \u001b[1;33m\u001b[0m\u001b[0m\n\u001b[0;32m    630\u001b[0m         all_importances = Parallel(n_jobs=self.n_jobs, prefer=\"threads\")(\n",
      "\u001b[1;32m~\\AppData\\Roaming\\Python\\Python39\\site-packages\\sklearn\\utils\\validation.py\u001b[0m in \u001b[0;36mcheck_is_fitted\u001b[1;34m(estimator, attributes, msg, all_or_any)\u001b[0m\n\u001b[0;32m   1388\u001b[0m \u001b[1;33m\u001b[0m\u001b[0m\n\u001b[0;32m   1389\u001b[0m     \u001b[1;32mif\u001b[0m \u001b[1;32mnot\u001b[0m \u001b[0mfitted\u001b[0m\u001b[1;33m:\u001b[0m\u001b[1;33m\u001b[0m\u001b[1;33m\u001b[0m\u001b[0m\n\u001b[1;32m-> 1390\u001b[1;33m         \u001b[1;32mraise\u001b[0m \u001b[0mNotFittedError\u001b[0m\u001b[1;33m(\u001b[0m\u001b[0mmsg\u001b[0m \u001b[1;33m%\u001b[0m \u001b[1;33m{\u001b[0m\u001b[1;34m\"name\"\u001b[0m\u001b[1;33m:\u001b[0m \u001b[0mtype\u001b[0m\u001b[1;33m(\u001b[0m\u001b[0mestimator\u001b[0m\u001b[1;33m)\u001b[0m\u001b[1;33m.\u001b[0m\u001b[0m__name__\u001b[0m\u001b[1;33m}\u001b[0m\u001b[1;33m)\u001b[0m\u001b[1;33m\u001b[0m\u001b[1;33m\u001b[0m\u001b[0m\n\u001b[0m\u001b[0;32m   1391\u001b[0m \u001b[1;33m\u001b[0m\u001b[0m\n\u001b[0;32m   1392\u001b[0m \u001b[1;33m\u001b[0m\u001b[0m\n",
      "\u001b[1;31mNotFittedError\u001b[0m: This RandomForestRegressor instance is not fitted yet. Call 'fit' with appropriate arguments before using this estimator."
     ]
    }
   ],
   "source": [
    "\n",
    "\n",
    "# 计算特征的影响度\n",
    "importances = regressor.feature_importances_"
   ]
  },
  {
   "cell_type": "code",
   "execution_count": 116,
   "id": "f66aa42e",
   "metadata": {
    "scrolled": false
   },
   "outputs": [
    {
     "data": {
      "image/png": "[encoded data removed]",
      "text/plain": [
       "<Figure size 640x480 with 1 Axes>"
      ]
     },
     "metadata": {},
     "output_type": "display_data"
    }
   ],
   "source": [
    "# 可视化特征的影响度\n",
    "feature_names = data.columns[1:24]  # 特征名称\n",
    "indices = np.argsort(importances)[::-1]\n",
    "plt.figure()\n",
    "plt.title(\"Feature Importances\")\n",
    "plt.bar(range(X.shape[1]), importances[indices])\n",
    "plt.xticks(range(X.shape[1]), feature_names[indices], rotation=90)  # 设置 x 轴标签\n",
    "plt.xlabel(\"Features\")\n",
    "plt.ylabel(\"Importance\")\n",
    "plt.show()"
   ]
  },
  {
   "cell_type": "code",
   "execution_count": null,
   "id": "4d31534c",
   "metadata": {},
   "outputs": [],
   "source": []
  },
  {
   "cell_type": "code",
   "execution_count": null,
   "id": "bd6f96a7",
   "metadata": {},
   "outputs": [],
   "source": []
  }
 ],
 "metadata": {
  "kernelspec": {
   "display_name": "Python 3 (ipykernel)",
   "language": "python",
   "name": "python3"
  },
  "language_info": {
   "codemirror_mode": {
    "name": "ipython",
    "version": 3
   },
   "file_extension": ".py",
   "mimetype": "text/x-python",
   "name": "python",
   "nbconvert_exporter": "python",
   "pygments_lexer": "ipython3",
   "version": "3.9.13"
  }
 },
 "nbformat": 4,
 "nbformat_minor": 5
}
