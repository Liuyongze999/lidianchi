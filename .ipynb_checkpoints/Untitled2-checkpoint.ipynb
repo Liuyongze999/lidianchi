{
 "cells": [
  {
   "cell_type": "code",
   "execution_count": 1,
   "id": "f94582bd",
   "metadata": {},
   "outputs": [],
   "source": [
    "import numpy as np\n",
    "import pandas as pd\n",
    "from sklearn.model_selection import cross_val_score#导入交叉验证模块\n",
    "from sklearn.ensemble import RandomForestRegressor#导入随机森林回归系\n",
    "from sklearn.metrics import r2_score\n",
    "from sklearn.model_selection import train_test_split\n",
    "import matplotlib.pyplot as plt\n",
    "from sklearn.metrics import mean_squared_error, roc_curve, auc\n",
    "from sklearn.preprocessing import MinMaxScaler\n",
    "import shap"
   ]
  },
  {
   "cell_type": "code",
   "execution_count": 2,
   "id": "dff0594c",
   "metadata": {},
   "outputs": [],
   "source": [
    "# 读入数据集\n",
    "data = pd.read_csv(\"D:\\pythonProject7\\库存合并2.csv\")\n",
    "\n",
    "# 将第 2 到 24 列作为特征，第 1 列作为标签\n",
    "X = data.iloc[:, 1:24].values\n",
    "y = data.iloc[:, 0].values\n",
    "\n",
    "# 最大最小值归一化\n",
    "scaler = MinMaxScaler()\n",
    "X = scaler.fit_transform(X)\n",
    "\n",
    "# 将数据集分为训练集和测试集\n",
    "# 划分数据集为训练集、验证集和测试集\n",
    "X_trainval, X_test, y_trainval, y_test = train_test_split(X, y, test_size=0.2, random_state=42)\n",
    "X_train, X_val, y_train, y_val = train_test_split(X_trainval, y_trainval, test_size=0.2, random_state=42)\n"
   ]
  },
  {
   "cell_type": "code",
   "execution_count": 3,
   "id": "6baf1016",
   "metadata": {},
   "outputs": [],
   "source": [
    "rf_model = RandomForestRegressor(n_estimators=100, random_state=42)\n",
    "# 拟合模型\n",
    "rf_model.fit(X_train, y_train)\n",
    "\n",
    "# 预测训练集、验证集和测试集\n",
    "y_train_pred = rf_model.predict(X_train)\n",
    "y_val_pred = rf_model.predict(X_val)\n",
    "y_test_pred = rf_model.predict(X_test)\n",
    "\n"
   ]
  },
  {
   "cell_type": "code",
   "execution_count": 4,
   "id": "e6294e21",
   "metadata": {},
   "outputs": [
    {
     "name": "stdout",
     "output_type": "stream",
     "text": [
      "训练集 R方: 0.999814908984557\n",
      "验证集 R方: 0.99885731966493\n",
      "测试集 R方: 0.9985093820130309\n"
     ]
    }
   ],
   "source": [
    "# 计算R方指标\n",
    "r2_train = r2_score(y_train, y_train_pred)\n",
    "r2_val = r2_score(y_val, y_val_pred)\n",
    "r2_test = r2_score(y_test, y_test_pred)\n",
    "\n",
    "print('训练集 R方:', r2_train)\n",
    "print('验证集 R方:', r2_val)\n",
    "print('测试集 R方:', r2_test)"
   ]
  },
  {
   "cell_type": "code",
   "execution_count": null,
   "id": "7ebbe44b",
   "metadata": {},
   "outputs": [],
   "source": [
    "# 我们记录在文件中的数据的特征参数名称\n",
    "columns_name_list = [ 'WMHD/1000', 'BETAP', 'PLHI2/1000', 'PNBI1LSOURCE/1000', 'PNBI1RSOURCE/1000', 'PNBI2LSOURCE/1000', 'PNBI2RSOURCE/1000', 'G109', 'G107', 'G106', 'KAPPA', 'AMINOR', 'Q95', 'LI', 'TRITOP', 'TRIBOT', 'DRSEP', 'PXUV33', 'PXUV7', 'WUta', 'pcrl01/1000000', 'pecrh', 'n3/n6']\n",
    "explainer = shap.TreeExplainer(rf_model)\n",
    "shap_values = explainer.shap_values(X_test)\n",
    "shap.summary_plot(shap_values, X_test, feature_names=columns_name_list)\n"
   ]
  },
  {
   "cell_type": "code",
   "execution_count": null,
   "id": "2a4d4b6b",
   "metadata": {},
   "outputs": [],
   "source": [
    "importances = rf_model.feature_importances_\n",
    "# 可视化特征的影响度\n",
    "feature_names = data.columns[1:24]  # 特征名称\n",
    "indices = np.argsort(importances)[::-1]\n",
    "plt.figure()\n",
    "plt.title(\"Feature Importances\")\n",
    "plt.bar(range(x_array.shape[1]), importances[indices])\n",
    "plt.xticks(range(x_array.shape[1]), feature_names[indices], rotation=90)  # 设置 x 轴标签\n",
    "plt.xlabel(\"Features\")\n",
    "plt.ylabel(\"Importance\")\n",
    "plt.show()"
   ]
  },
  {
   "cell_type": "code",
   "execution_count": null,
   "id": "a8d8958d",
   "metadata": {},
   "outputs": [],
   "source": []
  }
 ],
 "metadata": {
  "kernelspec": {
   "display_name": "Python 3 (ipykernel)",
   "language": "python",
   "name": "python3"
  },
  "language_info": {
   "codemirror_mode": {
    "name": "ipython",
    "version": 3
   },
   "file_extension": ".py",
   "mimetype": "text/x-python",
   "name": "python",
   "nbconvert_exporter": "python",
   "pygments_lexer": "ipython3",
   "version": "3.9.13"
  }
 },
 "nbformat": 4,
 "nbformat_minor": 5
}
